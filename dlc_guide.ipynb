{
 "cells": [
  {
   "cell_type": "markdown",
   "metadata": {},
   "source": [
    "This DeepLabCut guide was created by Nick Worley, and is intended for members of the Christianson lab to learn how to use DeepLabCut to train a model to score behavior in rats using machine learning. \n",
    "\n",
    "If this file is opened in jupyter notebook on a machine that has DeepLabCut properly installed, you should be able to execute each of the code cells below to walk through an end-to-end project. \n",
    "\n",
    "First, you need to import deeplabcut. \n",
    "Here we can alias it as dlc to reduce typing. "
   ]
  },
  {
   "cell_type": "code",
   "execution_count": 1,
   "metadata": {},
   "outputs": [
    {
     "ename": "ModuleNotFoundError",
     "evalue": "No module named 'deeplabcut'",
     "output_type": "error",
     "traceback": [
      "\u001b[0;31m---------------------------------------------------------------------------\u001b[0m",
      "\u001b[0;31mModuleNotFoundError\u001b[0m                       Traceback (most recent call last)",
      "\u001b[0;32m<ipython-input-1-ab32fdffebd4>\u001b[0m in \u001b[0;36m<module>\u001b[0;34m()\u001b[0m\n\u001b[0;32m----> 1\u001b[0;31m \u001b[0;32mimport\u001b[0m \u001b[0mdeeplabcut\u001b[0m \u001b[0;32mas\u001b[0m \u001b[0mdlc\u001b[0m\u001b[0;34m\u001b[0m\u001b[0m\n\u001b[0m",
      "\u001b[0;31mModuleNotFoundError\u001b[0m: No module named 'deeplabcut'"
     ]
    }
   ],
   "source": [
    "import deeplabcut as dlc"
   ]
  },
  {
   "cell_type": "markdown",
   "metadata": {},
   "source": [
    "Next, we create a new project using the function creat_new_project(). \n",
    "\n",
    "This function needs the following arguments to be passed into it. \n",
    "\n",
    "args:\n",
    "'Name of the project' \n",
    "'Name of the scorer' \n",
    "['C:/Path to video1','C:/Path to video2'] - list of str (this can also be passed as the str of the path to the directory containing the videos)\n",
    "\n",
    "kwargs:\n",
    "working_directory='directory path' (this should be the directory where you want the project folder to be created)\n",
    "videotype='mp4' (so far i have only been working with .mp4 videos, but dlc can also use .avi)\n",
    "copy_videos = True/False\n",
    "\n",
    "By setting this function to the variable config_path, the file path to the config.yaml file is returned to config_path\n",
    " "
   ]
  },
  {
   "cell_type": "code",
   "execution_count": null,
   "metadata": {
    "collapsed": true
   },
   "outputs": [],
   "source": [
    "config_path = dlc.create_new_project('sap','worley','C:/Users/ALA/Desktop/Converted Videos', \n",
    "                                     working_directory='C:/Users/ALA/Desktop', videotype='mp4', copy_videos=False)"
   ]
  },
  {
   "cell_type": "markdown",
   "metadata": {},
   "source": [
    "Once executed, the create_new_project function will create a folder in the specified directory with the name experiment-scorer-year-month-day (e.g. sap-worley-2019-07-15) \n",
    "\n",
    "This folder contains the config.yaml file and a number of other folders. \n",
    "The config.yaml file contains parameters that are used by dlc and can be edited and saved in a text editor. config_path will then be passed to all subsequent functions. If forgotten, config_path can also be set manually\n",
    "(e.g. config_path = 'C:/Users/ALA/Desktop/sap-worley-2019-07-15/config.yaml')\n",
    "\n",
    "\n",
    "\n",
    "Below is an example of a config.yaml file. "
   ]
  },
  {
   "cell_type": "markdown",
   "metadata": {},
   "source": [
    "TODO: ADD SAMPLE config.yaml FILE HERE."
   ]
  },
  {
   "cell_type": "markdown",
   "metadata": {},
   "source": [
    "The next step is to extract frames from the videos. This can be done manually or automatically. If done automatically, the user should also determine if it should be done uniformly or with k-means clustering. "
   ]
  },
  {
   "cell_type": "code",
   "execution_count": null,
   "metadata": {
    "collapsed": true
   },
   "outputs": [],
   "source": [
    "dlc.extract_frames(config_path, 'automatic', 'uniform')"
   ]
  },
  {
   "cell_type": "code",
   "execution_count": null,
   "metadata": {
    "collapsed": true
   },
   "outputs": [],
   "source": [
    "dlc.label_frames(config_path)"
   ]
  },
  {
   "cell_type": "code",
   "execution_count": null,
   "metadata": {
    "collapsed": true
   },
   "outputs": [],
   "source": [
    "dlc.check_labels(config_path)"
   ]
  },
  {
   "cell_type": "code",
   "execution_count": null,
   "metadata": {
    "collapsed": true
   },
   "outputs": [],
   "source": [
    "dlc.create_training_dataset(config_path, numshuffles=1)"
   ]
  },
  {
   "cell_type": "code",
   "execution_count": null,
   "metadata": {
    "collapsed": true
   },
   "outputs": [],
   "source": [
    "dlc.train_network(config_path)"
   ]
  },
  {
   "cell_type": "markdown",
   "metadata": {},
   "source": []
  }
 ],
 "metadata": {
  "kernelspec": {
   "display_name": "Python 3",
   "language": "python",
   "name": "python3"
  },
  "language_info": {
   "codemirror_mode": {
    "name": "ipython",
    "version": 3
   },
   "file_extension": ".py",
   "mimetype": "text/x-python",
   "name": "python",
   "nbconvert_exporter": "python",
   "pygments_lexer": "ipython3",
   "version": "3.6.3"
  }
 },
 "nbformat": 4,
 "nbformat_minor": 2
}
